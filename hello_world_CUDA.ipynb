{
  "nbformat": 4,
  "nbformat_minor": 0,
  "metadata": {
    "colab": {
      "provenance": [],
      "gpuType": "T4"
    },
    "kernelspec": {
      "name": "python3",
      "display_name": "Python 3"
    },
    "language_info": {
      "name": "python"
    },
    "accelerator": "GPU"
  },
  "cells": [
    {
      "cell_type": "code",
      "execution_count": 1,
      "metadata": {
        "id": "XLNNpqGcVE0n",
        "outputId": "3ddad317-4c9e-4abe-accf-8a9e21e76605",
        "colab": {
          "base_uri": "https://localhost:8080/"
        }
      },
      "outputs": [
        {
          "output_type": "stream",
          "name": "stdout",
          "text": [
            "Hello, World from CPU!\n",
            "Hello, World from GPU!"
          ]
        }
      ],
      "source": [
        "# Write CUDA C++ style code\n",
        "code = r'''\n",
        "#include <iostream>\n",
        "#include <cuda_runtime.h>\n",
        "\n",
        "__global__ void helloFromGPU() {\n",
        "    printf(\"Hello, World from GPU!\");\n",
        "}\n",
        "\n",
        "int main() {\n",
        "    std::cout << \"Hello, World from CPU!\" << std::endl;\n",
        "\n",
        "    // Launch the GPU kernel\n",
        "    helloFromGPU<<<1, 1>>>();\n",
        "\n",
        "    // Error checking\n",
        "    cudaError_t errSync  = cudaGetLastError();\n",
        "    cudaError_t errAsync = cudaDeviceSynchronize();\n",
        "\n",
        "    if (errSync != cudaSuccess)\n",
        "        std::cerr << \"Sync kernel error: \" << cudaGetErrorString(errSync) << std::endl;\n",
        "    if (errAsync != cudaSuccess)\n",
        "        std::cerr << \"Async kernel error: \" << cudaGetErrorString(errAsync) << std::endl;\n",
        "\n",
        "    return 0;\n",
        "}\n",
        "'''\n",
        "\n",
        "# Save to file\n",
        "with open(\"hello_cpp.cu\", \"w\") as f:\n",
        "    f.write(code)\n",
        "\n",
        "# Compile using nvcc with C++11 support (and correct GPU arch)\n",
        "!nvcc -arch=sm_75 -std=c++11 hello_cpp.cu -o hello_cpp\n",
        "\n",
        "# Run it\n",
        "!./hello_cpp"
      ]
    }
  ]
}